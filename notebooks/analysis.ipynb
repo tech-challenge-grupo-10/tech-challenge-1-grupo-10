{
 "cells": [
  {
   "cell_type": "code",
   "execution_count": 1,
   "id": "058b2d6d",
   "metadata": {},
   "outputs": [],
   "source": [
    "import polars as pd"
   ]
  },
  {
   "cell_type": "code",
   "execution_count": 10,
   "id": "1a68b444",
   "metadata": {},
   "outputs": [
    {
     "data": {
      "text/html": [
       "<div><style>\n",
       ".dataframe > thead > tr,\n",
       ".dataframe > tbody > tr {\n",
       "  text-align: right;\n",
       "  white-space: pre-wrap;\n",
       "}\n",
       "</style>\n",
       "<small>shape: (9, 33)</small><table border=\"1\" class=\"dataframe\"><thead><tr><th>statistic</th><th>id</th><th>diagnosis</th><th>radius_mean</th><th>texture_mean</th><th>perimeter_mean</th><th>area_mean</th><th>smoothness_mean</th><th>compactness_mean</th><th>concavity_mean</th><th>concave points_mean</th><th>symmetry_mean</th><th>fractal_dimension_mean</th><th>radius_se</th><th>texture_se</th><th>perimeter_se</th><th>area_se</th><th>smoothness_se</th><th>compactness_se</th><th>concavity_se</th><th>concave points_se</th><th>symmetry_se</th><th>fractal_dimension_se</th><th>radius_worst</th><th>texture_worst</th><th>perimeter_worst</th><th>area_worst</th><th>smoothness_worst</th><th>compactness_worst</th><th>concavity_worst</th><th>concave points_worst</th><th>symmetry_worst</th><th>fractal_dimension_worst</th></tr><tr><td>str</td><td>f64</td><td>str</td><td>f64</td><td>f64</td><td>f64</td><td>f64</td><td>f64</td><td>f64</td><td>f64</td><td>f64</td><td>f64</td><td>f64</td><td>f64</td><td>f64</td><td>f64</td><td>f64</td><td>f64</td><td>f64</td><td>f64</td><td>f64</td><td>f64</td><td>f64</td><td>f64</td><td>f64</td><td>f64</td><td>f64</td><td>f64</td><td>f64</td><td>f64</td><td>f64</td><td>f64</td><td>f64</td></tr></thead><tbody><tr><td>&quot;count&quot;</td><td>569.0</td><td>&quot;569&quot;</td><td>569.0</td><td>569.0</td><td>569.0</td><td>569.0</td><td>569.0</td><td>569.0</td><td>569.0</td><td>569.0</td><td>569.0</td><td>569.0</td><td>569.0</td><td>569.0</td><td>569.0</td><td>569.0</td><td>569.0</td><td>569.0</td><td>569.0</td><td>569.0</td><td>569.0</td><td>569.0</td><td>569.0</td><td>569.0</td><td>569.0</td><td>569.0</td><td>569.0</td><td>569.0</td><td>569.0</td><td>569.0</td><td>569.0</td><td>569.0</td></tr><tr><td>&quot;null_count&quot;</td><td>0.0</td><td>&quot;0&quot;</td><td>0.0</td><td>0.0</td><td>0.0</td><td>0.0</td><td>0.0</td><td>0.0</td><td>0.0</td><td>0.0</td><td>0.0</td><td>0.0</td><td>0.0</td><td>0.0</td><td>0.0</td><td>0.0</td><td>0.0</td><td>0.0</td><td>0.0</td><td>0.0</td><td>0.0</td><td>0.0</td><td>0.0</td><td>0.0</td><td>0.0</td><td>0.0</td><td>0.0</td><td>0.0</td><td>0.0</td><td>0.0</td><td>0.0</td><td>0.0</td></tr><tr><td>&quot;mean&quot;</td><td>3.0372e7</td><td>null</td><td>14.127292</td><td>19.289649</td><td>91.969033</td><td>654.889104</td><td>0.09636</td><td>0.104341</td><td>0.088799</td><td>0.048919</td><td>0.181162</td><td>0.062798</td><td>0.405172</td><td>1.216853</td><td>2.866059</td><td>40.337079</td><td>0.007041</td><td>0.025478</td><td>0.031894</td><td>0.011796</td><td>0.020542</td><td>0.003795</td><td>16.26919</td><td>25.677223</td><td>107.261213</td><td>880.583128</td><td>0.132369</td><td>0.254265</td><td>0.272188</td><td>0.114606</td><td>0.290076</td><td>0.083946</td></tr><tr><td>&quot;std&quot;</td><td>1.2502e8</td><td>null</td><td>3.524049</td><td>4.301036</td><td>24.298981</td><td>351.914129</td><td>0.014064</td><td>0.052813</td><td>0.07972</td><td>0.038803</td><td>0.027414</td><td>0.00706</td><td>0.277313</td><td>0.551648</td><td>2.021855</td><td>45.491006</td><td>0.003003</td><td>0.017908</td><td>0.030186</td><td>0.00617</td><td>0.008266</td><td>0.002646</td><td>4.833242</td><td>6.146258</td><td>33.602542</td><td>569.356993</td><td>0.022832</td><td>0.157336</td><td>0.208624</td><td>0.065732</td><td>0.061867</td><td>0.018061</td></tr><tr><td>&quot;min&quot;</td><td>8670.0</td><td>&quot;B&quot;</td><td>6.981</td><td>9.71</td><td>43.79</td><td>143.5</td><td>0.05263</td><td>0.01938</td><td>0.0</td><td>0.0</td><td>0.106</td><td>0.04996</td><td>0.1115</td><td>0.3602</td><td>0.757</td><td>6.802</td><td>0.001713</td><td>0.002252</td><td>0.0</td><td>0.0</td><td>0.007882</td><td>0.0008948</td><td>7.93</td><td>12.02</td><td>50.41</td><td>185.2</td><td>0.07117</td><td>0.02729</td><td>0.0</td><td>0.0</td><td>0.1565</td><td>0.05504</td></tr><tr><td>&quot;25%&quot;</td><td>869218.0</td><td>null</td><td>11.7</td><td>16.17</td><td>75.17</td><td>420.3</td><td>0.08637</td><td>0.06492</td><td>0.02956</td><td>0.02031</td><td>0.1619</td><td>0.0577</td><td>0.2324</td><td>0.8339</td><td>1.606</td><td>17.85</td><td>0.005169</td><td>0.01308</td><td>0.01509</td><td>0.007638</td><td>0.01516</td><td>0.002248</td><td>13.01</td><td>21.08</td><td>84.11</td><td>515.3</td><td>0.1166</td><td>0.1472</td><td>0.1145</td><td>0.06493</td><td>0.2504</td><td>0.07146</td></tr><tr><td>&quot;50%&quot;</td><td>906024.0</td><td>null</td><td>13.37</td><td>18.84</td><td>86.24</td><td>551.1</td><td>0.09587</td><td>0.09263</td><td>0.06154</td><td>0.0335</td><td>0.1792</td><td>0.06154</td><td>0.3242</td><td>1.108</td><td>2.287</td><td>24.53</td><td>0.00638</td><td>0.02045</td><td>0.02589</td><td>0.01093</td><td>0.01873</td><td>0.003187</td><td>14.97</td><td>25.41</td><td>97.66</td><td>686.5</td><td>0.1313</td><td>0.2119</td><td>0.2267</td><td>0.09993</td><td>0.2822</td><td>0.08004</td></tr><tr><td>&quot;75%&quot;</td><td>8.813129e6</td><td>null</td><td>15.78</td><td>21.8</td><td>104.1</td><td>782.7</td><td>0.1053</td><td>0.1304</td><td>0.1307</td><td>0.074</td><td>0.1957</td><td>0.06612</td><td>0.4789</td><td>1.474</td><td>3.357</td><td>45.19</td><td>0.008146</td><td>0.03245</td><td>0.04205</td><td>0.01471</td><td>0.02348</td><td>0.004558</td><td>18.79</td><td>29.72</td><td>125.4</td><td>1084.0</td><td>0.146</td><td>0.3391</td><td>0.3829</td><td>0.1614</td><td>0.3179</td><td>0.09208</td></tr><tr><td>&quot;max&quot;</td><td>9.11320502e8</td><td>&quot;M&quot;</td><td>28.11</td><td>39.28</td><td>188.5</td><td>2501.0</td><td>0.1634</td><td>0.3454</td><td>0.4268</td><td>0.2012</td><td>0.304</td><td>0.09744</td><td>2.873</td><td>4.885</td><td>21.98</td><td>542.2</td><td>0.03113</td><td>0.1354</td><td>0.396</td><td>0.05279</td><td>0.07895</td><td>0.02984</td><td>36.04</td><td>49.54</td><td>251.2</td><td>4254.0</td><td>0.2226</td><td>1.058</td><td>1.252</td><td>0.291</td><td>0.6638</td><td>0.2075</td></tr></tbody></table></div>"
      ],
      "text/plain": [
       "shape: (9, 33)\n",
       "┌───────────┬───────────┬───────────┬───────────┬───┬───────────┬───────────┬───────────┬──────────┐\n",
       "│ statistic ┆ id        ┆ diagnosis ┆ radius_me ┆ … ┆ concavity ┆ concave   ┆ symmetry_ ┆ fractal_ │\n",
       "│ ---       ┆ ---       ┆ ---       ┆ an        ┆   ┆ _worst    ┆ points_wo ┆ worst     ┆ dimensio │\n",
       "│ str       ┆ f64       ┆ str       ┆ ---       ┆   ┆ ---       ┆ rst       ┆ ---       ┆ n_worst  │\n",
       "│           ┆           ┆           ┆ f64       ┆   ┆ f64       ┆ ---       ┆ f64       ┆ ---      │\n",
       "│           ┆           ┆           ┆           ┆   ┆           ┆ f64       ┆           ┆ f64      │\n",
       "╞═══════════╪═══════════╪═══════════╪═══════════╪═══╪═══════════╪═══════════╪═══════════╪══════════╡\n",
       "│ count     ┆ 569.0     ┆ 569       ┆ 569.0     ┆ … ┆ 569.0     ┆ 569.0     ┆ 569.0     ┆ 569.0    │\n",
       "│ null_coun ┆ 0.0       ┆ 0         ┆ 0.0       ┆ … ┆ 0.0       ┆ 0.0       ┆ 0.0       ┆ 0.0      │\n",
       "│ t         ┆           ┆           ┆           ┆   ┆           ┆           ┆           ┆          │\n",
       "│ mean      ┆ 3.0372e7  ┆ null      ┆ 14.127292 ┆ … ┆ 0.272188  ┆ 0.114606  ┆ 0.290076  ┆ 0.083946 │\n",
       "│ std       ┆ 1.2502e8  ┆ null      ┆ 3.524049  ┆ … ┆ 0.208624  ┆ 0.065732  ┆ 0.061867  ┆ 0.018061 │\n",
       "│ min       ┆ 8670.0    ┆ B         ┆ 6.981     ┆ … ┆ 0.0       ┆ 0.0       ┆ 0.1565    ┆ 0.05504  │\n",
       "│ 25%       ┆ 869218.0  ┆ null      ┆ 11.7      ┆ … ┆ 0.1145    ┆ 0.06493   ┆ 0.2504    ┆ 0.07146  │\n",
       "│ 50%       ┆ 906024.0  ┆ null      ┆ 13.37     ┆ … ┆ 0.2267    ┆ 0.09993   ┆ 0.2822    ┆ 0.08004  │\n",
       "│ 75%       ┆ 8.813129e ┆ null      ┆ 15.78     ┆ … ┆ 0.3829    ┆ 0.1614    ┆ 0.3179    ┆ 0.09208  │\n",
       "│           ┆ 6         ┆           ┆           ┆   ┆           ┆           ┆           ┆          │\n",
       "│ max       ┆ 9.1132050 ┆ M         ┆ 28.11     ┆ … ┆ 1.252     ┆ 0.291     ┆ 0.6638    ┆ 0.2075   │\n",
       "│           ┆ 2e8       ┆           ┆           ┆   ┆           ┆           ┆           ┆          │\n",
       "└───────────┴───────────┴───────────┴───────────┴───┴───────────┴───────────┴───────────┴──────────┘"
      ]
     },
     "execution_count": 10,
     "metadata": {},
     "output_type": "execute_result"
    }
   ],
   "source": [
    "df = pd.read_csv(\"../data/data.csv\")\n",
    "df.describe()"
   ]
  },
  {
   "cell_type": "code",
   "execution_count": null,
   "id": "f5715d0e",
   "metadata": {},
   "outputs": [
    {
     "data": {
      "text/html": [
       "<div><style>\n",
       ".dataframe > thead > tr,\n",
       ".dataframe > tbody > tr {\n",
       "  text-align: right;\n",
       "  white-space: pre-wrap;\n",
       "}\n",
       "</style>\n",
       "<small>shape: (5, 2)</small><table border=\"1\" class=\"dataframe\"><thead><tr><th>id</th><th>diagnosis</th></tr><tr><td>i64</td><td>str</td></tr></thead><tbody><tr><td>842302</td><td>&quot;M&quot;</td></tr><tr><td>842517</td><td>&quot;M&quot;</td></tr><tr><td>84300903</td><td>&quot;M&quot;</td></tr><tr><td>84348301</td><td>&quot;M&quot;</td></tr><tr><td>84358402</td><td>&quot;M&quot;</td></tr></tbody></table></div>"
      ],
      "text/plain": [
       "shape: (5, 2)\n",
       "┌──────────┬───────────┐\n",
       "│ id       ┆ diagnosis │\n",
       "│ ---      ┆ ---       │\n",
       "│ i64      ┆ str       │\n",
       "╞══════════╪═══════════╡\n",
       "│ 842302   ┆ M         │\n",
       "│ 842517   ┆ M         │\n",
       "│ 84300903 ┆ M         │\n",
       "│ 84348301 ┆ M         │\n",
       "│ 84358402 ┆ M         │\n",
       "└──────────┴───────────┘"
      ]
     },
     "execution_count": 11,
     "metadata": {},
     "output_type": "execute_result"
    }
   ],
   "source": [
    "df_ids_diagnosis = df.select(\"id\", \"diagnosis\")\n",
    "df_ids_diagnosis.head()"
   ]
  }
 ],
 "metadata": {
  "kernelspec": {
   "display_name": "tech-challenge-grupo-10",
   "language": "python",
   "name": "python3"
  },
  "language_info": {
   "codemirror_mode": {
    "name": "ipython",
    "version": 3
   },
   "file_extension": ".py",
   "mimetype": "text/x-python",
   "name": "python",
   "nbconvert_exporter": "python",
   "pygments_lexer": "ipython3",
   "version": "3.10.15"
  }
 },
 "nbformat": 4,
 "nbformat_minor": 5
}
