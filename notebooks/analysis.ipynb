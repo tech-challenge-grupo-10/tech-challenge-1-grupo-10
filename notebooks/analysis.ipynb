{
 "cells": [
  {
   "cell_type": "code",
   "execution_count": 41,
   "id": "058b2d6d",
   "metadata": {},
   "outputs": [],
   "source": [
    "import polars as pl\n",
    "import seaborn as sns\n",
    "import matplotlib.pyplot as plt\n",
    "\n",
    "from sklearn.preprocessing import LabelEncoder, MinMaxScaler\n",
    "from sklearn.linear_model import LogisticRegression\n",
    "from sklearn.ensemble import RandomForestRegressor\n",
    "from sklearn.model_selection import train_test_split\n",
    "from sklearn.pipeline import make_pipeline\n",
    "from sklearn.metrics import accuracy_score, mean_squared_error, r2_score, mean_absolute_error, mean_absolute_percentage_error, classification_report"
   ]
  },
  {
   "cell_type": "code",
   "execution_count": null,
   "id": "1a68b444",
   "metadata": {},
   "outputs": [],
   "source": [
    "labelEncoder = LabelEncoder()\n",
    "df = pl.read_csv(\"../data/data.csv\")\n",
    "adequated_diagnosis = pl.Series(\"diagnosis_int\",labelEncoder.fit_transform(df.select('diagnosis')))\n",
    "df.insert_column(2, adequated_diagnosis)\n",
    "df.head()"
   ]
  },
  {
   "cell_type": "code",
   "execution_count": null,
   "id": "807141ad",
   "metadata": {},
   "outputs": [],
   "source": [
    "df_cut = df[\"diagnosis_int\",\"radius_mean\",\"texture_mean\",\"perimeter_mean\",\"area_mean\",\"smoothness_mean\",\"compactness_mean\",\"concavity_mean\",\"concave points_mean\",\"symmetry_mean\",\"fractal_dimension_mean\"]\n",
    "correlation = df_cut.corr()\n",
    "fig, ax = plt.subplots(figsize=(12,12)) \n",
    "sns.heatmap(correlation, annot=True, ax=ax)"
   ]
  },
  {
   "cell_type": "code",
   "execution_count": null,
   "id": "7d569540",
   "metadata": {},
   "outputs": [],
   "source": [
    "sns.pairplot(df.to_pandas(),vars=[\"radius_mean\",\"texture_mean\",\"perimeter_mean\",\"area_mean\",\"smoothness_mean\",\"compactness_mean\",\"concavity_mean\",\"concave points_mean\",\"symmetry_mean\",\"fractal_dimension_mean\"],hue=\"diagnosis\")"
   ]
  },
  {
   "cell_type": "code",
   "execution_count": 47,
   "id": "f5715d0e",
   "metadata": {},
   "outputs": [],
   "source": [
    "y = df[\"id\", \"diagnosis\", \"diagnosis_int\"]\n",
    "X = df[\"radius_mean\",\"texture_mean\",\"perimeter_mean\",\"area_mean\",\"smoothness_mean\",\"compactness_mean\",\"concavity_mean\",\"concave points_mean\",\"symmetry_mean\",\"fractal_dimension_mean\"]\n",
    "\n",
    "X_train, X_test, y_train, y_test = train_test_split(X, y.get_column(\"diagnosis_int\"), test_size=0.2, random_state=42)"
   ]
  },
  {
   "cell_type": "code",
   "execution_count": 48,
   "id": "6d775a12",
   "metadata": {},
   "outputs": [
    {
     "data": {
      "text/plain": [
       "0.956140350877193"
      ]
     },
     "execution_count": 48,
     "metadata": {},
     "output_type": "execute_result"
    }
   ],
   "source": [
    "rlog_model = make_pipeline(MinMaxScaler(), LogisticRegression())\n",
    "rlog_model.fit(X_train, y_train)\n",
    "\n",
    "y_pred_rlog = rlog_model.predict(X_test)\n",
    "rlog_model.score(X_test, y_test)"
   ]
  },
  {
   "cell_type": "code",
   "execution_count": 49,
   "id": "c7940811",
   "metadata": {},
   "outputs": [
    {
     "name": "stdout",
     "output_type": "stream",
     "text": [
      "Accuracy: 0.96\n"
     ]
    }
   ],
   "source": [
    "# Calculate Accuracy\n",
    "accuracy = accuracy_score(y_test, y_pred_rlog)\n",
    "print(f\"Accuracy: {accuracy:.2f}\")"
   ]
  },
  {
   "cell_type": "code",
   "execution_count": 56,
   "id": "334f11e1",
   "metadata": {},
   "outputs": [
    {
     "name": "stdout",
     "output_type": "stream",
     "text": [
      "Mean Absolute Error (MAE): 0.043859649122807015\n",
      "Mean Squared Error (MSE): 0.043859649122807015\n",
      "Mean Absolute Percentage Error (MAPE): 0.043859649122807015\n",
      "R-squared (R2): 0.8132983950212905\n"
     ]
    }
   ],
   "source": [
    "# Calculate Mean Absolute Error\n",
    "mae = mean_absolute_error(y_test, y_pred_rlog)\n",
    "print(f\"Mean Absolute Error (MAE): {mae}\")\n",
    "\n",
    "# Calculate Mean Squared Error\n",
    "mse = mean_squared_error(y_test, y_pred_rlog)\n",
    "print(f\"Mean Squared Error (MSE): {mse}\")\n",
    "\n",
    "# Calculate Mean Absolute Percentage Error\n",
    "mape = mean_absolute_percentage_error(y_test, y_pred_rlog)\n",
    "print(f\"Mean Absolute Percentage Error (MAPE): {mape}\")\n",
    "\n",
    "# Calculate R-squared (coefficient of determination)\n",
    "r2 = r2_score(y_test, y_pred_rlog)\n",
    "print(f\"R-squared (R2): {r2}\")"
   ]
  },
  {
   "cell_type": "code",
   "execution_count": 54,
   "id": "98138cf5",
   "metadata": {},
   "outputs": [
    {
     "data": {
      "text/plain": [
       "0.8379019325253849"
      ]
     },
     "execution_count": 54,
     "metadata": {},
     "output_type": "execute_result"
    }
   ],
   "source": [
    "rf_model = make_pipeline(MinMaxScaler(), RandomForestRegressor(n_estimators=100, random_state=42, criterion='absolute_error'))\n",
    "rf_model.fit(X_train, y_train)\n",
    "y_pred_rf = rf_model.predict(X_test)\n",
    "rf_model.score(X_test, y_test)"
   ]
  },
  {
   "cell_type": "code",
   "execution_count": 55,
   "id": "b0c80c8f",
   "metadata": {},
   "outputs": [
    {
     "name": "stdout",
     "output_type": "stream",
     "text": [
      "Random Forest Mean Absolute Error (MAE): 0.10324561403508771\n",
      "Random Forest Mean Squared Error (MSE): 0.038079824561403505\n",
      "Random Forest Mean Absolute Percentage Error (MAPE): 282462608207886.44\n",
      "Random Forest R-squared (R2): 0.8379019325253849\n"
     ]
    }
   ],
   "source": [
    "# Calculate evaluation metrics for the RandomForest model\n",
    "mae_rf = mean_absolute_error(y_test, y_pred_rf)\n",
    "print(f\"Random Forest Mean Absolute Error (MAE): {mae_rf}\")\n",
    "\n",
    "mse_rf = mean_squared_error(y_test, y_pred_rf)\n",
    "print(f\"Random Forest Mean Squared Error (MSE): {mse_rf}\")\n",
    "\n",
    "mape_rf = mean_absolute_percentage_error(y_test, y_pred_rf)\n",
    "print(f\"Random Forest Mean Absolute Percentage Error (MAPE): {mape_rf}\")\n",
    "\n",
    "r2_rf = r2_score(y_test, y_pred_rf)\n",
    "print(f\"Random Forest R-squared (R2): {r2_rf}\")\n"
   ]
  },
  {
   "cell_type": "code",
   "execution_count": 53,
   "id": "cce394a2",
   "metadata": {},
   "outputs": [
    {
     "name": "stdout",
     "output_type": "stream",
     "text": [
      "              precision    recall  f1-score   support\n",
      "\n",
      "           0       0.93      1.00      0.97        71\n",
      "           1       1.00      0.88      0.94        43\n",
      "\n",
      "    accuracy                           0.96       114\n",
      "   macro avg       0.97      0.94      0.95       114\n",
      "weighted avg       0.96      0.96      0.96       114\n",
      "\n"
     ]
    }
   ],
   "source": [
    "# Classification Report\n",
    "print(classification_report(y_test, y_pred_rlog))"
   ]
  }
 ],
 "metadata": {
  "kernelspec": {
   "display_name": "tech-challenge-grupo-10",
   "language": "python",
   "name": "python3"
  },
  "language_info": {
   "codemirror_mode": {
    "name": "ipython",
    "version": 3
   },
   "file_extension": ".py",
   "mimetype": "text/x-python",
   "name": "python",
   "nbconvert_exporter": "python",
   "pygments_lexer": "ipython3",
   "version": "3.10.15"
  }
 },
 "nbformat": 4,
 "nbformat_minor": 5
}
